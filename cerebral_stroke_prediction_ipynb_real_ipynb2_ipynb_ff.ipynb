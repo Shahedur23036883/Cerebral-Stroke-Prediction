{
 "cells": [
  {
   "cell_type": "code",
   "execution_count": 161,
   "metadata": {
    "id": "bqFu_mY4Y3iF"
   },
   "outputs": [],
   "source": [
    "import pandas as pd\n",
    "import numpy as np\n",
    "import matplotlib.pyplot as plt\n",
    "import seaborn as sns"
   ]
  },
  {
   "cell_type": "code",
   "execution_count": 162,
   "metadata": {
    "id": "icjXFqE8T9fx"
   },
   "outputs": [],
   "source": [
    "df=pd.read_csv((\"data/dataset.csv\"))"
   ]
  },
  {
   "cell_type": "code",
   "execution_count": 163,
   "metadata": {
    "colab": {
     "base_uri": "https://localhost:8080/",
     "height": 444
    },
    "id": "upLiuexhUIX4",
    "outputId": "ef0999be-a6e4-49f9-dad2-e7af39793207"
   },
   "outputs": [
    {
     "data": {
      "text/html": [
       "<div>\n",
       "<style scoped>\n",
       "    .dataframe tbody tr th:only-of-type {\n",
       "        vertical-align: middle;\n",
       "    }\n",
       "\n",
       "    .dataframe tbody tr th {\n",
       "        vertical-align: top;\n",
       "    }\n",
       "\n",
       "    .dataframe thead th {\n",
       "        text-align: right;\n",
       "    }\n",
       "</style>\n",
       "<table border=\"1\" class=\"dataframe\">\n",
       "  <thead>\n",
       "    <tr style=\"text-align: right;\">\n",
       "      <th></th>\n",
       "      <th>id</th>\n",
       "      <th>gender</th>\n",
       "      <th>age</th>\n",
       "      <th>hypertension</th>\n",
       "      <th>heart_disease</th>\n",
       "      <th>ever_married</th>\n",
       "      <th>work_type</th>\n",
       "      <th>Residence_type</th>\n",
       "      <th>avg_glucose_level</th>\n",
       "      <th>bmi</th>\n",
       "      <th>smoking_status</th>\n",
       "      <th>stroke</th>\n",
       "    </tr>\n",
       "  </thead>\n",
       "  <tbody>\n",
       "    <tr>\n",
       "      <th>0</th>\n",
       "      <td>30669</td>\n",
       "      <td>Male</td>\n",
       "      <td>3.0</td>\n",
       "      <td>0</td>\n",
       "      <td>0</td>\n",
       "      <td>No</td>\n",
       "      <td>children</td>\n",
       "      <td>Rural</td>\n",
       "      <td>95.12</td>\n",
       "      <td>18.0</td>\n",
       "      <td>NaN</td>\n",
       "      <td>0</td>\n",
       "    </tr>\n",
       "    <tr>\n",
       "      <th>1</th>\n",
       "      <td>30468</td>\n",
       "      <td>Male</td>\n",
       "      <td>58.0</td>\n",
       "      <td>1</td>\n",
       "      <td>0</td>\n",
       "      <td>Yes</td>\n",
       "      <td>Private</td>\n",
       "      <td>Urban</td>\n",
       "      <td>87.96</td>\n",
       "      <td>39.2</td>\n",
       "      <td>never smoked</td>\n",
       "      <td>0</td>\n",
       "    </tr>\n",
       "    <tr>\n",
       "      <th>2</th>\n",
       "      <td>16523</td>\n",
       "      <td>Female</td>\n",
       "      <td>8.0</td>\n",
       "      <td>0</td>\n",
       "      <td>0</td>\n",
       "      <td>No</td>\n",
       "      <td>Private</td>\n",
       "      <td>Urban</td>\n",
       "      <td>110.89</td>\n",
       "      <td>17.6</td>\n",
       "      <td>NaN</td>\n",
       "      <td>0</td>\n",
       "    </tr>\n",
       "    <tr>\n",
       "      <th>3</th>\n",
       "      <td>56543</td>\n",
       "      <td>Female</td>\n",
       "      <td>70.0</td>\n",
       "      <td>0</td>\n",
       "      <td>0</td>\n",
       "      <td>Yes</td>\n",
       "      <td>Private</td>\n",
       "      <td>Rural</td>\n",
       "      <td>69.04</td>\n",
       "      <td>35.9</td>\n",
       "      <td>formerly smoked</td>\n",
       "      <td>0</td>\n",
       "    </tr>\n",
       "    <tr>\n",
       "      <th>4</th>\n",
       "      <td>46136</td>\n",
       "      <td>Male</td>\n",
       "      <td>14.0</td>\n",
       "      <td>0</td>\n",
       "      <td>0</td>\n",
       "      <td>No</td>\n",
       "      <td>Never_worked</td>\n",
       "      <td>Rural</td>\n",
       "      <td>161.28</td>\n",
       "      <td>19.1</td>\n",
       "      <td>NaN</td>\n",
       "      <td>0</td>\n",
       "    </tr>\n",
       "    <tr>\n",
       "      <th>...</th>\n",
       "      <td>...</td>\n",
       "      <td>...</td>\n",
       "      <td>...</td>\n",
       "      <td>...</td>\n",
       "      <td>...</td>\n",
       "      <td>...</td>\n",
       "      <td>...</td>\n",
       "      <td>...</td>\n",
       "      <td>...</td>\n",
       "      <td>...</td>\n",
       "      <td>...</td>\n",
       "      <td>...</td>\n",
       "    </tr>\n",
       "    <tr>\n",
       "      <th>43395</th>\n",
       "      <td>56196</td>\n",
       "      <td>Female</td>\n",
       "      <td>10.0</td>\n",
       "      <td>0</td>\n",
       "      <td>0</td>\n",
       "      <td>No</td>\n",
       "      <td>children</td>\n",
       "      <td>Urban</td>\n",
       "      <td>58.64</td>\n",
       "      <td>20.4</td>\n",
       "      <td>never smoked</td>\n",
       "      <td>0</td>\n",
       "    </tr>\n",
       "    <tr>\n",
       "      <th>43396</th>\n",
       "      <td>5450</td>\n",
       "      <td>Female</td>\n",
       "      <td>56.0</td>\n",
       "      <td>0</td>\n",
       "      <td>0</td>\n",
       "      <td>Yes</td>\n",
       "      <td>Govt_job</td>\n",
       "      <td>Urban</td>\n",
       "      <td>213.61</td>\n",
       "      <td>55.4</td>\n",
       "      <td>formerly smoked</td>\n",
       "      <td>0</td>\n",
       "    </tr>\n",
       "    <tr>\n",
       "      <th>43397</th>\n",
       "      <td>28375</td>\n",
       "      <td>Female</td>\n",
       "      <td>82.0</td>\n",
       "      <td>1</td>\n",
       "      <td>0</td>\n",
       "      <td>Yes</td>\n",
       "      <td>Private</td>\n",
       "      <td>Urban</td>\n",
       "      <td>91.94</td>\n",
       "      <td>28.9</td>\n",
       "      <td>formerly smoked</td>\n",
       "      <td>0</td>\n",
       "    </tr>\n",
       "    <tr>\n",
       "      <th>43398</th>\n",
       "      <td>27973</td>\n",
       "      <td>Male</td>\n",
       "      <td>40.0</td>\n",
       "      <td>0</td>\n",
       "      <td>0</td>\n",
       "      <td>Yes</td>\n",
       "      <td>Private</td>\n",
       "      <td>Urban</td>\n",
       "      <td>99.16</td>\n",
       "      <td>33.2</td>\n",
       "      <td>never smoked</td>\n",
       "      <td>0</td>\n",
       "    </tr>\n",
       "    <tr>\n",
       "      <th>43399</th>\n",
       "      <td>36271</td>\n",
       "      <td>Female</td>\n",
       "      <td>82.0</td>\n",
       "      <td>0</td>\n",
       "      <td>0</td>\n",
       "      <td>Yes</td>\n",
       "      <td>Private</td>\n",
       "      <td>Urban</td>\n",
       "      <td>79.48</td>\n",
       "      <td>20.6</td>\n",
       "      <td>never smoked</td>\n",
       "      <td>0</td>\n",
       "    </tr>\n",
       "  </tbody>\n",
       "</table>\n",
       "<p>43400 rows × 12 columns</p>\n",
       "</div>"
      ],
      "text/plain": [
       "          id  gender   age  hypertension  heart_disease ever_married  \\\n",
       "0      30669    Male   3.0             0              0           No   \n",
       "1      30468    Male  58.0             1              0          Yes   \n",
       "2      16523  Female   8.0             0              0           No   \n",
       "3      56543  Female  70.0             0              0          Yes   \n",
       "4      46136    Male  14.0             0              0           No   \n",
       "...      ...     ...   ...           ...            ...          ...   \n",
       "43395  56196  Female  10.0             0              0           No   \n",
       "43396   5450  Female  56.0             0              0          Yes   \n",
       "43397  28375  Female  82.0             1              0          Yes   \n",
       "43398  27973    Male  40.0             0              0          Yes   \n",
       "43399  36271  Female  82.0             0              0          Yes   \n",
       "\n",
       "          work_type Residence_type  avg_glucose_level   bmi   smoking_status  \\\n",
       "0          children          Rural              95.12  18.0              NaN   \n",
       "1           Private          Urban              87.96  39.2     never smoked   \n",
       "2           Private          Urban             110.89  17.6              NaN   \n",
       "3           Private          Rural              69.04  35.9  formerly smoked   \n",
       "4      Never_worked          Rural             161.28  19.1              NaN   \n",
       "...             ...            ...                ...   ...              ...   \n",
       "43395      children          Urban              58.64  20.4     never smoked   \n",
       "43396      Govt_job          Urban             213.61  55.4  formerly smoked   \n",
       "43397       Private          Urban              91.94  28.9  formerly smoked   \n",
       "43398       Private          Urban              99.16  33.2     never smoked   \n",
       "43399       Private          Urban              79.48  20.6     never smoked   \n",
       "\n",
       "       stroke  \n",
       "0           0  \n",
       "1           0  \n",
       "2           0  \n",
       "3           0  \n",
       "4           0  \n",
       "...       ...  \n",
       "43395       0  \n",
       "43396       0  \n",
       "43397       0  \n",
       "43398       0  \n",
       "43399       0  \n",
       "\n",
       "[43400 rows x 12 columns]"
      ]
     },
     "execution_count": 163,
     "metadata": {},
     "output_type": "execute_result"
    }
   ],
   "source": [
    "df"
   ]
  },
  {
   "cell_type": "code",
   "execution_count": 164,
   "metadata": {
    "colab": {
     "base_uri": "https://localhost:8080/",
     "height": 226
    },
    "id": "BPcbvnhaUNfJ",
    "outputId": "87848c00-de6d-41b1-c436-ee7220ed9286"
   },
   "outputs": [
    {
     "data": {
      "text/html": [
       "<div>\n",
       "<style scoped>\n",
       "    .dataframe tbody tr th:only-of-type {\n",
       "        vertical-align: middle;\n",
       "    }\n",
       "\n",
       "    .dataframe tbody tr th {\n",
       "        vertical-align: top;\n",
       "    }\n",
       "\n",
       "    .dataframe thead th {\n",
       "        text-align: right;\n",
       "    }\n",
       "</style>\n",
       "<table border=\"1\" class=\"dataframe\">\n",
       "  <thead>\n",
       "    <tr style=\"text-align: right;\">\n",
       "      <th></th>\n",
       "      <th>id</th>\n",
       "      <th>gender</th>\n",
       "      <th>age</th>\n",
       "      <th>hypertension</th>\n",
       "      <th>heart_disease</th>\n",
       "      <th>ever_married</th>\n",
       "      <th>work_type</th>\n",
       "      <th>Residence_type</th>\n",
       "      <th>avg_glucose_level</th>\n",
       "      <th>bmi</th>\n",
       "      <th>smoking_status</th>\n",
       "      <th>stroke</th>\n",
       "    </tr>\n",
       "  </thead>\n",
       "  <tbody>\n",
       "    <tr>\n",
       "      <th>0</th>\n",
       "      <td>30669</td>\n",
       "      <td>Male</td>\n",
       "      <td>3.0</td>\n",
       "      <td>0</td>\n",
       "      <td>0</td>\n",
       "      <td>No</td>\n",
       "      <td>children</td>\n",
       "      <td>Rural</td>\n",
       "      <td>95.12</td>\n",
       "      <td>18.0</td>\n",
       "      <td>NaN</td>\n",
       "      <td>0</td>\n",
       "    </tr>\n",
       "    <tr>\n",
       "      <th>1</th>\n",
       "      <td>30468</td>\n",
       "      <td>Male</td>\n",
       "      <td>58.0</td>\n",
       "      <td>1</td>\n",
       "      <td>0</td>\n",
       "      <td>Yes</td>\n",
       "      <td>Private</td>\n",
       "      <td>Urban</td>\n",
       "      <td>87.96</td>\n",
       "      <td>39.2</td>\n",
       "      <td>never smoked</td>\n",
       "      <td>0</td>\n",
       "    </tr>\n",
       "    <tr>\n",
       "      <th>2</th>\n",
       "      <td>16523</td>\n",
       "      <td>Female</td>\n",
       "      <td>8.0</td>\n",
       "      <td>0</td>\n",
       "      <td>0</td>\n",
       "      <td>No</td>\n",
       "      <td>Private</td>\n",
       "      <td>Urban</td>\n",
       "      <td>110.89</td>\n",
       "      <td>17.6</td>\n",
       "      <td>NaN</td>\n",
       "      <td>0</td>\n",
       "    </tr>\n",
       "    <tr>\n",
       "      <th>3</th>\n",
       "      <td>56543</td>\n",
       "      <td>Female</td>\n",
       "      <td>70.0</td>\n",
       "      <td>0</td>\n",
       "      <td>0</td>\n",
       "      <td>Yes</td>\n",
       "      <td>Private</td>\n",
       "      <td>Rural</td>\n",
       "      <td>69.04</td>\n",
       "      <td>35.9</td>\n",
       "      <td>formerly smoked</td>\n",
       "      <td>0</td>\n",
       "    </tr>\n",
       "    <tr>\n",
       "      <th>4</th>\n",
       "      <td>46136</td>\n",
       "      <td>Male</td>\n",
       "      <td>14.0</td>\n",
       "      <td>0</td>\n",
       "      <td>0</td>\n",
       "      <td>No</td>\n",
       "      <td>Never_worked</td>\n",
       "      <td>Rural</td>\n",
       "      <td>161.28</td>\n",
       "      <td>19.1</td>\n",
       "      <td>NaN</td>\n",
       "      <td>0</td>\n",
       "    </tr>\n",
       "  </tbody>\n",
       "</table>\n",
       "</div>"
      ],
      "text/plain": [
       "      id  gender   age  hypertension  heart_disease ever_married  \\\n",
       "0  30669    Male   3.0             0              0           No   \n",
       "1  30468    Male  58.0             1              0          Yes   \n",
       "2  16523  Female   8.0             0              0           No   \n",
       "3  56543  Female  70.0             0              0          Yes   \n",
       "4  46136    Male  14.0             0              0           No   \n",
       "\n",
       "      work_type Residence_type  avg_glucose_level   bmi   smoking_status  \\\n",
       "0      children          Rural              95.12  18.0              NaN   \n",
       "1       Private          Urban              87.96  39.2     never smoked   \n",
       "2       Private          Urban             110.89  17.6              NaN   \n",
       "3       Private          Rural              69.04  35.9  formerly smoked   \n",
       "4  Never_worked          Rural             161.28  19.1              NaN   \n",
       "\n",
       "   stroke  \n",
       "0       0  \n",
       "1       0  \n",
       "2       0  \n",
       "3       0  \n",
       "4       0  "
      ]
     },
     "execution_count": 164,
     "metadata": {},
     "output_type": "execute_result"
    }
   ],
   "source": [
    "df.head()"
   ]
  },
  {
   "cell_type": "code",
   "execution_count": 165,
   "metadata": {
    "colab": {
     "base_uri": "https://localhost:8080/",
     "height": 226
    },
    "id": "dg_YRenlUQI2",
    "outputId": "43315d27-a565-44f8-fad9-486779734c5b"
   },
   "outputs": [
    {
     "data": {
      "text/html": [
       "<div>\n",
       "<style scoped>\n",
       "    .dataframe tbody tr th:only-of-type {\n",
       "        vertical-align: middle;\n",
       "    }\n",
       "\n",
       "    .dataframe tbody tr th {\n",
       "        vertical-align: top;\n",
       "    }\n",
       "\n",
       "    .dataframe thead th {\n",
       "        text-align: right;\n",
       "    }\n",
       "</style>\n",
       "<table border=\"1\" class=\"dataframe\">\n",
       "  <thead>\n",
       "    <tr style=\"text-align: right;\">\n",
       "      <th></th>\n",
       "      <th>id</th>\n",
       "      <th>gender</th>\n",
       "      <th>age</th>\n",
       "      <th>hypertension</th>\n",
       "      <th>heart_disease</th>\n",
       "      <th>ever_married</th>\n",
       "      <th>work_type</th>\n",
       "      <th>Residence_type</th>\n",
       "      <th>avg_glucose_level</th>\n",
       "      <th>bmi</th>\n",
       "      <th>smoking_status</th>\n",
       "      <th>stroke</th>\n",
       "    </tr>\n",
       "  </thead>\n",
       "  <tbody>\n",
       "    <tr>\n",
       "      <th>43395</th>\n",
       "      <td>56196</td>\n",
       "      <td>Female</td>\n",
       "      <td>10.0</td>\n",
       "      <td>0</td>\n",
       "      <td>0</td>\n",
       "      <td>No</td>\n",
       "      <td>children</td>\n",
       "      <td>Urban</td>\n",
       "      <td>58.64</td>\n",
       "      <td>20.4</td>\n",
       "      <td>never smoked</td>\n",
       "      <td>0</td>\n",
       "    </tr>\n",
       "    <tr>\n",
       "      <th>43396</th>\n",
       "      <td>5450</td>\n",
       "      <td>Female</td>\n",
       "      <td>56.0</td>\n",
       "      <td>0</td>\n",
       "      <td>0</td>\n",
       "      <td>Yes</td>\n",
       "      <td>Govt_job</td>\n",
       "      <td>Urban</td>\n",
       "      <td>213.61</td>\n",
       "      <td>55.4</td>\n",
       "      <td>formerly smoked</td>\n",
       "      <td>0</td>\n",
       "    </tr>\n",
       "    <tr>\n",
       "      <th>43397</th>\n",
       "      <td>28375</td>\n",
       "      <td>Female</td>\n",
       "      <td>82.0</td>\n",
       "      <td>1</td>\n",
       "      <td>0</td>\n",
       "      <td>Yes</td>\n",
       "      <td>Private</td>\n",
       "      <td>Urban</td>\n",
       "      <td>91.94</td>\n",
       "      <td>28.9</td>\n",
       "      <td>formerly smoked</td>\n",
       "      <td>0</td>\n",
       "    </tr>\n",
       "    <tr>\n",
       "      <th>43398</th>\n",
       "      <td>27973</td>\n",
       "      <td>Male</td>\n",
       "      <td>40.0</td>\n",
       "      <td>0</td>\n",
       "      <td>0</td>\n",
       "      <td>Yes</td>\n",
       "      <td>Private</td>\n",
       "      <td>Urban</td>\n",
       "      <td>99.16</td>\n",
       "      <td>33.2</td>\n",
       "      <td>never smoked</td>\n",
       "      <td>0</td>\n",
       "    </tr>\n",
       "    <tr>\n",
       "      <th>43399</th>\n",
       "      <td>36271</td>\n",
       "      <td>Female</td>\n",
       "      <td>82.0</td>\n",
       "      <td>0</td>\n",
       "      <td>0</td>\n",
       "      <td>Yes</td>\n",
       "      <td>Private</td>\n",
       "      <td>Urban</td>\n",
       "      <td>79.48</td>\n",
       "      <td>20.6</td>\n",
       "      <td>never smoked</td>\n",
       "      <td>0</td>\n",
       "    </tr>\n",
       "  </tbody>\n",
       "</table>\n",
       "</div>"
      ],
      "text/plain": [
       "          id  gender   age  hypertension  heart_disease ever_married  \\\n",
       "43395  56196  Female  10.0             0              0           No   \n",
       "43396   5450  Female  56.0             0              0          Yes   \n",
       "43397  28375  Female  82.0             1              0          Yes   \n",
       "43398  27973    Male  40.0             0              0          Yes   \n",
       "43399  36271  Female  82.0             0              0          Yes   \n",
       "\n",
       "      work_type Residence_type  avg_glucose_level   bmi   smoking_status  \\\n",
       "43395  children          Urban              58.64  20.4     never smoked   \n",
       "43396  Govt_job          Urban             213.61  55.4  formerly smoked   \n",
       "43397   Private          Urban              91.94  28.9  formerly smoked   \n",
       "43398   Private          Urban              99.16  33.2     never smoked   \n",
       "43399   Private          Urban              79.48  20.6     never smoked   \n",
       "\n",
       "       stroke  \n",
       "43395       0  \n",
       "43396       0  \n",
       "43397       0  \n",
       "43398       0  \n",
       "43399       0  "
      ]
     },
     "execution_count": 165,
     "metadata": {},
     "output_type": "execute_result"
    }
   ],
   "source": [
    "df.tail()"
   ]
  },
  {
   "cell_type": "code",
   "execution_count": 166,
   "metadata": {
    "colab": {
     "base_uri": "https://localhost:8080/"
    },
    "id": "tIXxWubhUVgM",
    "outputId": "79192ac2-df34-4105-b375-79a257027699"
   },
   "outputs": [
    {
     "data": {
      "text/plain": [
       "Index(['id', 'gender', 'age', 'hypertension', 'heart_disease', 'ever_married',\n",
       "       'work_type', 'Residence_type', 'avg_glucose_level', 'bmi',\n",
       "       'smoking_status', 'stroke'],\n",
       "      dtype='object')"
      ]
     },
     "execution_count": 166,
     "metadata": {},
     "output_type": "execute_result"
    }
   ],
   "source": [
    "df.columns\n"
   ]
  },
  {
   "cell_type": "code",
   "execution_count": 167,
   "metadata": {
    "colab": {
     "base_uri": "https://localhost:8080/",
     "height": 460
    },
    "id": "WbXlSJPQUm8B",
    "outputId": "c568961c-7ad2-4377-b968-425b9f2aeea4"
   },
   "outputs": [
    {
     "data": {
      "text/plain": [
       "id                     int64\n",
       "gender                object\n",
       "age                  float64\n",
       "hypertension           int64\n",
       "heart_disease          int64\n",
       "ever_married          object\n",
       "work_type             object\n",
       "Residence_type        object\n",
       "avg_glucose_level    float64\n",
       "bmi                  float64\n",
       "smoking_status        object\n",
       "stroke                 int64\n",
       "dtype: object"
      ]
     },
     "execution_count": 167,
     "metadata": {},
     "output_type": "execute_result"
    }
   ],
   "source": [
    "df.dtypes"
   ]
  },
  {
   "cell_type": "code",
   "execution_count": 168,
   "metadata": {
    "colab": {
     "base_uri": "https://localhost:8080/"
    },
    "id": "K-ClkQoYUptp",
    "outputId": "99eba5bb-c2d5-4165-f7cf-e9f4003cf6a1"
   },
   "outputs": [
    {
     "data": {
      "text/plain": [
       "(43400, 12)"
      ]
     },
     "execution_count": 168,
     "metadata": {},
     "output_type": "execute_result"
    }
   ],
   "source": [
    "df.shape"
   ]
  },
  {
   "cell_type": "code",
   "execution_count": 169,
   "metadata": {
    "colab": {
     "base_uri": "https://localhost:8080/",
     "height": 300
    },
    "id": "moYlQyN4Us_p",
    "outputId": "fc73ad11-66e7-41d5-95a0-8b7aa1afa80f"
   },
   "outputs": [
    {
     "data": {
      "text/html": [
       "<div>\n",
       "<style scoped>\n",
       "    .dataframe tbody tr th:only-of-type {\n",
       "        vertical-align: middle;\n",
       "    }\n",
       "\n",
       "    .dataframe tbody tr th {\n",
       "        vertical-align: top;\n",
       "    }\n",
       "\n",
       "    .dataframe thead th {\n",
       "        text-align: right;\n",
       "    }\n",
       "</style>\n",
       "<table border=\"1\" class=\"dataframe\">\n",
       "  <thead>\n",
       "    <tr style=\"text-align: right;\">\n",
       "      <th></th>\n",
       "      <th>id</th>\n",
       "      <th>age</th>\n",
       "      <th>hypertension</th>\n",
       "      <th>heart_disease</th>\n",
       "      <th>avg_glucose_level</th>\n",
       "      <th>bmi</th>\n",
       "      <th>stroke</th>\n",
       "    </tr>\n",
       "  </thead>\n",
       "  <tbody>\n",
       "    <tr>\n",
       "      <th>count</th>\n",
       "      <td>43400.000000</td>\n",
       "      <td>43400.000000</td>\n",
       "      <td>43400.000000</td>\n",
       "      <td>43400.000000</td>\n",
       "      <td>43400.000000</td>\n",
       "      <td>41938.000000</td>\n",
       "      <td>43400.000000</td>\n",
       "    </tr>\n",
       "    <tr>\n",
       "      <th>mean</th>\n",
       "      <td>36326.142350</td>\n",
       "      <td>42.217894</td>\n",
       "      <td>0.093571</td>\n",
       "      <td>0.047512</td>\n",
       "      <td>104.482750</td>\n",
       "      <td>28.605038</td>\n",
       "      <td>0.018041</td>\n",
       "    </tr>\n",
       "    <tr>\n",
       "      <th>std</th>\n",
       "      <td>21072.134879</td>\n",
       "      <td>22.519649</td>\n",
       "      <td>0.291235</td>\n",
       "      <td>0.212733</td>\n",
       "      <td>43.111751</td>\n",
       "      <td>7.770020</td>\n",
       "      <td>0.133103</td>\n",
       "    </tr>\n",
       "    <tr>\n",
       "      <th>min</th>\n",
       "      <td>1.000000</td>\n",
       "      <td>0.080000</td>\n",
       "      <td>0.000000</td>\n",
       "      <td>0.000000</td>\n",
       "      <td>55.000000</td>\n",
       "      <td>10.100000</td>\n",
       "      <td>0.000000</td>\n",
       "    </tr>\n",
       "    <tr>\n",
       "      <th>25%</th>\n",
       "      <td>18038.500000</td>\n",
       "      <td>24.000000</td>\n",
       "      <td>0.000000</td>\n",
       "      <td>0.000000</td>\n",
       "      <td>77.540000</td>\n",
       "      <td>23.200000</td>\n",
       "      <td>0.000000</td>\n",
       "    </tr>\n",
       "    <tr>\n",
       "      <th>50%</th>\n",
       "      <td>36351.500000</td>\n",
       "      <td>44.000000</td>\n",
       "      <td>0.000000</td>\n",
       "      <td>0.000000</td>\n",
       "      <td>91.580000</td>\n",
       "      <td>27.700000</td>\n",
       "      <td>0.000000</td>\n",
       "    </tr>\n",
       "    <tr>\n",
       "      <th>75%</th>\n",
       "      <td>54514.250000</td>\n",
       "      <td>60.000000</td>\n",
       "      <td>0.000000</td>\n",
       "      <td>0.000000</td>\n",
       "      <td>112.070000</td>\n",
       "      <td>32.900000</td>\n",
       "      <td>0.000000</td>\n",
       "    </tr>\n",
       "    <tr>\n",
       "      <th>max</th>\n",
       "      <td>72943.000000</td>\n",
       "      <td>82.000000</td>\n",
       "      <td>1.000000</td>\n",
       "      <td>1.000000</td>\n",
       "      <td>291.050000</td>\n",
       "      <td>97.600000</td>\n",
       "      <td>1.000000</td>\n",
       "    </tr>\n",
       "  </tbody>\n",
       "</table>\n",
       "</div>"
      ],
      "text/plain": [
       "                 id           age  hypertension  heart_disease  \\\n",
       "count  43400.000000  43400.000000  43400.000000   43400.000000   \n",
       "mean   36326.142350     42.217894      0.093571       0.047512   \n",
       "std    21072.134879     22.519649      0.291235       0.212733   \n",
       "min        1.000000      0.080000      0.000000       0.000000   \n",
       "25%    18038.500000     24.000000      0.000000       0.000000   \n",
       "50%    36351.500000     44.000000      0.000000       0.000000   \n",
       "75%    54514.250000     60.000000      0.000000       0.000000   \n",
       "max    72943.000000     82.000000      1.000000       1.000000   \n",
       "\n",
       "       avg_glucose_level           bmi        stroke  \n",
       "count       43400.000000  41938.000000  43400.000000  \n",
       "mean          104.482750     28.605038      0.018041  \n",
       "std            43.111751      7.770020      0.133103  \n",
       "min            55.000000     10.100000      0.000000  \n",
       "25%            77.540000     23.200000      0.000000  \n",
       "50%            91.580000     27.700000      0.000000  \n",
       "75%           112.070000     32.900000      0.000000  \n",
       "max           291.050000     97.600000      1.000000  "
      ]
     },
     "execution_count": 169,
     "metadata": {},
     "output_type": "execute_result"
    }
   ],
   "source": [
    "df.describe()"
   ]
  },
  {
   "cell_type": "code",
   "execution_count": 170,
   "metadata": {
    "colab": {
     "base_uri": "https://localhost:8080/",
     "height": 460
    },
    "id": "TFfple1KUvlj",
    "outputId": "e2615815-9eec-4168-edc9-7f3bb6079be0"
   },
   "outputs": [
    {
     "data": {
      "text/plain": [
       "id                       0\n",
       "gender                   0\n",
       "age                      0\n",
       "hypertension             0\n",
       "heart_disease            0\n",
       "ever_married             0\n",
       "work_type                0\n",
       "Residence_type           0\n",
       "avg_glucose_level        0\n",
       "bmi                   1462\n",
       "smoking_status       13292\n",
       "stroke                   0\n",
       "dtype: int64"
      ]
     },
     "execution_count": 170,
     "metadata": {},
     "output_type": "execute_result"
    }
   ],
   "source": [
    "df.isnull().sum()"
   ]
  },
  {
   "cell_type": "code",
   "execution_count": 171,
   "metadata": {
    "colab": {
     "base_uri": "https://localhost:8080/"
    },
    "id": "3SSBUxooVBw2",
    "outputId": "201d7166-fdbb-48b9-dd6f-a3595bcc8bb7"
   },
   "outputs": [
    {
     "data": {
      "text/plain": [
       "0"
      ]
     },
     "execution_count": 171,
     "metadata": {},
     "output_type": "execute_result"
    }
   ],
   "source": [
    "df.duplicated().sum()"
   ]
  },
  {
   "cell_type": "code",
   "execution_count": 172,
   "metadata": {
    "colab": {
     "base_uri": "https://localhost:8080/"
    },
    "id": "fspaGi3cVEnI",
    "outputId": "f13df966-8ee0-4abc-aebc-0c6972bb008f"
   },
   "outputs": [
    {
     "name": "stdout",
     "output_type": "stream",
     "text": [
      "<class 'pandas.core.frame.DataFrame'>\n",
      "RangeIndex: 43400 entries, 0 to 43399\n",
      "Data columns (total 12 columns):\n",
      " #   Column             Non-Null Count  Dtype  \n",
      "---  ------             --------------  -----  \n",
      " 0   id                 43400 non-null  int64  \n",
      " 1   gender             43400 non-null  object \n",
      " 2   age                43400 non-null  float64\n",
      " 3   hypertension       43400 non-null  int64  \n",
      " 4   heart_disease      43400 non-null  int64  \n",
      " 5   ever_married       43400 non-null  object \n",
      " 6   work_type          43400 non-null  object \n",
      " 7   Residence_type     43400 non-null  object \n",
      " 8   avg_glucose_level  43400 non-null  float64\n",
      " 9   bmi                41938 non-null  float64\n",
      " 10  smoking_status     30108 non-null  object \n",
      " 11  stroke             43400 non-null  int64  \n",
      "dtypes: float64(3), int64(4), object(5)\n",
      "memory usage: 4.0+ MB\n"
     ]
    }
   ],
   "source": [
    "df.info()"
   ]
  },
  {
   "cell_type": "code",
   "execution_count": 173,
   "metadata": {
    "colab": {
     "base_uri": "https://localhost:8080/"
    },
    "id": "acGdXa5mVLdH",
    "outputId": "25717eb8-4ab9-42e6-c01c-a54b11d2233b"
   },
   "outputs": [
    {
     "name": "stdout",
     "output_type": "stream",
     "text": [
      "stroke\n",
      "0    42617\n",
      "1      783\n",
      "Name: count, dtype: int64\n"
     ]
    }
   ],
   "source": [
    "print(df.stroke.value_counts())"
   ]
  },
  {
   "cell_type": "markdown",
   "metadata": {
    "id": "UUIpwTMZWYE9"
   },
   "source": [
    "#Check Missing Values"
   ]
  },
  {
   "cell_type": "code",
   "execution_count": 175,
   "metadata": {
    "colab": {
     "base_uri": "https://localhost:8080/"
    },
    "id": "7bBRn8HSWZFB",
    "outputId": "7753e80a-1a7e-4a29-9fa5-324cf4cfd1bc"
   },
   "outputs": [
    {
     "name": "stdout",
     "output_type": "stream",
     "text": [
      "id                       0\n",
      "gender                   0\n",
      "age                      0\n",
      "hypertension             0\n",
      "heart_disease            0\n",
      "ever_married             0\n",
      "work_type                0\n",
      "Residence_type           0\n",
      "avg_glucose_level        0\n",
      "bmi                   1462\n",
      "smoking_status       13292\n",
      "stroke                   0\n",
      "dtype: int64\n"
     ]
    }
   ],
   "source": [
    "missing_values=df.isnull().sum()\n",
    "print(missing_values)"
   ]
  },
  {
   "cell_type": "markdown",
   "metadata": {
    "id": "OPihErq2Wczp"
   },
   "source": [
    "#Handling Missing Values"
   ]
  },
  {
   "cell_type": "code",
   "execution_count": 177,
   "metadata": {
    "colab": {
     "base_uri": "https://localhost:8080/"
    },
    "id": "QupD8LpwWmII",
    "outputId": "4c878698-745e-43de-9945-14b6af9f9ce0"
   },
   "outputs": [
    {
     "name": "stdout",
     "output_type": "stream",
     "text": [
      "gender               0\n",
      "age                  0\n",
      "hypertension         0\n",
      "heart_disease        0\n",
      "ever_married         0\n",
      "work_type            0\n",
      "Residence_type       0\n",
      "avg_glucose_level    0\n",
      "bmi                  0\n",
      "smoking_status       0\n",
      "stroke               0\n",
      "dtype: int64\n",
      "Missing values in variable 'bmi'\t\t: 0\n",
      "Missing values in variable 'smoking_status': 0\n",
      "Shape of data without missing values: (30108, 11)\n"
     ]
    },
    {
     "name": "stderr",
     "output_type": "stream",
     "text": [
      "C:\\Users\\Nazm\\AppData\\Local\\Temp\\ipykernel_9964\\44137288.py:4: FutureWarning: A value is trying to be set on a copy of a DataFrame or Series through chained assignment using an inplace method.\n",
      "The behavior will change in pandas 3.0. This inplace method will never work because the intermediate object on which we are setting values always behaves as a copy.\n",
      "\n",
      "For example, when doing 'df[col].method(value, inplace=True)', try using 'df.method({col: value}, inplace=True)' or df[col] = df[col].method(value) instead, to perform the operation inplace on the original object.\n",
      "\n",
      "\n",
      "  df['bmi'].fillna(df['bmi'].mean(),inplace=True)\n"
     ]
    }
   ],
   "source": [
    "# Safely disable new warning with the chained assignment.\n",
    "pd.options.mode.chained_assignment = None\n",
    "# replace missing values in variable 'bmi' with its mean\n",
    "df['bmi'].fillna(df['bmi'].mean(),inplace=True)\n",
    "# remove (drop) data associated with missing values in variable 'smoking_status\n",
    "clean_data=df.dropna(subset=['smoking_status'])\n",
    "# drop variable 'id'\n",
    "clean_data=clean_data.drop(columns=['id'])\n",
    "# validate there's no more missing values\n",
    "print(clean_data.isnull().sum())\n",
    "print('Missing values in variable \\'bmi\\'\\t\\t:',clean_data['bmi'].isnull().sum())\n",
    "print('Missing values in variable \\'smoking_status\\':',clean_data['smoking_status'].isnull().sum())\n",
    "print(\"Shape of data without missing values: {}\".format(clean_data.shape))\n",
    "\n"
   ]
  },
  {
   "cell_type": "code",
   "execution_count": 178,
   "metadata": {
    "id": "HsfbhQ9dhFOT"
   },
   "outputs": [],
   "source": [
    "# Save cleaned data\n",
    "clean_data.to_csv('data/clean_data.csv',index=False)"
   ]
  },
  {
   "cell_type": "code",
   "execution_count": 179,
   "metadata": {
    "colab": {
     "base_uri": "https://localhost:8080/"
    },
    "id": "VrnQ2qnNZy9d",
    "outputId": "70b29d06-a903-491d-d235-6cfdfeff3ffb"
   },
   "outputs": [
    {
     "name": "stdout",
     "output_type": "stream",
     "text": [
      "Distinct entries found in 'gender' column → ['Male' 'Female' 'Other']\n",
      "Distinct entries found in 'ever_married' column → ['Yes' 'No']\n",
      "Distinct entries found in 'work_type' column → ['Private' 'Self-employed' 'Govt_job' 'children' 'Never_worked']\n",
      "Distinct entries found in 'Residence_type' column → ['Urban' 'Rural']\n",
      "Distinct entries found in 'smoking_status' column → ['never smoked' 'formerly smoked' 'smokes']\n"
     ]
    }
   ],
   "source": [
    "features = ['gender', 'ever_married', 'work_type', 'Residence_type', 'smoking_status']\n",
    "for col in features:\n",
    "    values = clean_data[col].unique()\n",
    "    print(f\"Distinct entries found in '{col}' column → {values}\")"
   ]
  },
  {
   "cell_type": "code",
   "execution_count": 180,
   "metadata": {
    "colab": {
     "base_uri": "https://localhost:8080/",
     "height": 226
    },
    "id": "QhKX9gT_aszq",
    "outputId": "ac856570-3cf0-4078-b5bf-ff372c1e53b0"
   },
   "outputs": [
    {
     "data": {
      "text/html": [
       "<div>\n",
       "<style scoped>\n",
       "    .dataframe tbody tr th:only-of-type {\n",
       "        vertical-align: middle;\n",
       "    }\n",
       "\n",
       "    .dataframe tbody tr th {\n",
       "        vertical-align: top;\n",
       "    }\n",
       "\n",
       "    .dataframe thead th {\n",
       "        text-align: right;\n",
       "    }\n",
       "</style>\n",
       "<table border=\"1\" class=\"dataframe\">\n",
       "  <thead>\n",
       "    <tr style=\"text-align: right;\">\n",
       "      <th></th>\n",
       "      <th>gender</th>\n",
       "      <th>age</th>\n",
       "      <th>hypertension</th>\n",
       "      <th>heart_disease</th>\n",
       "      <th>ever_married</th>\n",
       "      <th>work_type</th>\n",
       "      <th>Residence_type</th>\n",
       "      <th>avg_glucose_level</th>\n",
       "      <th>bmi</th>\n",
       "      <th>smoking_status</th>\n",
       "      <th>stroke</th>\n",
       "    </tr>\n",
       "  </thead>\n",
       "  <tbody>\n",
       "    <tr>\n",
       "      <th>1</th>\n",
       "      <td>1</td>\n",
       "      <td>58.0</td>\n",
       "      <td>1</td>\n",
       "      <td>0</td>\n",
       "      <td>1</td>\n",
       "      <td>2</td>\n",
       "      <td>1</td>\n",
       "      <td>87.96</td>\n",
       "      <td>39.2</td>\n",
       "      <td>1</td>\n",
       "      <td>0</td>\n",
       "    </tr>\n",
       "    <tr>\n",
       "      <th>3</th>\n",
       "      <td>0</td>\n",
       "      <td>70.0</td>\n",
       "      <td>0</td>\n",
       "      <td>0</td>\n",
       "      <td>1</td>\n",
       "      <td>2</td>\n",
       "      <td>0</td>\n",
       "      <td>69.04</td>\n",
       "      <td>35.9</td>\n",
       "      <td>0</td>\n",
       "      <td>0</td>\n",
       "    </tr>\n",
       "    <tr>\n",
       "      <th>6</th>\n",
       "      <td>0</td>\n",
       "      <td>52.0</td>\n",
       "      <td>0</td>\n",
       "      <td>0</td>\n",
       "      <td>1</td>\n",
       "      <td>2</td>\n",
       "      <td>1</td>\n",
       "      <td>77.59</td>\n",
       "      <td>17.7</td>\n",
       "      <td>0</td>\n",
       "      <td>0</td>\n",
       "    </tr>\n",
       "    <tr>\n",
       "      <th>7</th>\n",
       "      <td>0</td>\n",
       "      <td>75.0</td>\n",
       "      <td>0</td>\n",
       "      <td>1</td>\n",
       "      <td>1</td>\n",
       "      <td>3</td>\n",
       "      <td>0</td>\n",
       "      <td>243.53</td>\n",
       "      <td>27.0</td>\n",
       "      <td>1</td>\n",
       "      <td>0</td>\n",
       "    </tr>\n",
       "    <tr>\n",
       "      <th>8</th>\n",
       "      <td>0</td>\n",
       "      <td>32.0</td>\n",
       "      <td>0</td>\n",
       "      <td>0</td>\n",
       "      <td>1</td>\n",
       "      <td>2</td>\n",
       "      <td>0</td>\n",
       "      <td>77.67</td>\n",
       "      <td>32.3</td>\n",
       "      <td>2</td>\n",
       "      <td>0</td>\n",
       "    </tr>\n",
       "  </tbody>\n",
       "</table>\n",
       "</div>"
      ],
      "text/plain": [
       "   gender   age  hypertension  heart_disease  ever_married  work_type  \\\n",
       "1       1  58.0             1              0             1          2   \n",
       "3       0  70.0             0              0             1          2   \n",
       "6       0  52.0             0              0             1          2   \n",
       "7       0  75.0             0              1             1          3   \n",
       "8       0  32.0             0              0             1          2   \n",
       "\n",
       "   Residence_type  avg_glucose_level   bmi  smoking_status  stroke  \n",
       "1               1              87.96  39.2               1       0  \n",
       "3               0              69.04  35.9               0       0  \n",
       "6               1              77.59  17.7               0       0  \n",
       "7               0             243.53  27.0               1       0  \n",
       "8               0              77.67  32.3               2       0  "
      ]
     },
     "execution_count": 180,
     "metadata": {},
     "output_type": "execute_result"
    }
   ],
   "source": [
    "from sklearn.preprocessing import LabelEncoder\n",
    "\n",
    "def apply_label_encoding(data_frame):\n",
    "    enc_gender = LabelEncoder()\n",
    "    enc_married = LabelEncoder()\n",
    "    enc_work = LabelEncoder()\n",
    "    enc_residence = LabelEncoder()\n",
    "    enc_smoke = LabelEncoder()\n",
    "\n",
    "    data_frame['gender'] = enc_gender.fit_transform(data_frame['gender'])\n",
    "    data_frame['ever_married'] = enc_married.fit_transform(data_frame['ever_married'])\n",
    "    data_frame['work_type'] = enc_work.fit_transform(data_frame['work_type'])\n",
    "    data_frame['Residence_type'] = enc_residence.fit_transform(data_frame['Residence_type'])\n",
    "    data_frame['smoking_status'] = enc_smoke.fit_transform(data_frame['smoking_status'])\n",
    "    \n",
    "    return data_frame\n",
    "\n",
    "clean_data = apply_label_encoding(clean_data)\n",
    "clean_data.head()"
   ]
  },
  {
   "cell_type": "code",
   "execution_count": 181,
   "metadata": {
    "id": "Hu0g1eJcgbMi"
   },
   "outputs": [],
   "source": [
    "# Save encoded cleaned data\n",
    "clean_data.to_csv('data/clean_data_encoded.csv',index=False)"
   ]
  },
  {
   "cell_type": "code",
   "execution_count": 182,
   "metadata": {
    "colab": {
     "base_uri": "https://localhost:8080/",
     "height": 488
    },
    "id": "HvlI0VktfRme",
    "outputId": "301ffa17-e8ad-4f44-fb80-a6b3c287abf3"
   },
   "outputs": [
    {
     "name": "stdout",
     "output_type": "stream",
     "text": [
      "Class-wise count of stroke outcomes:\n",
      " stroke\n",
      "0    29470\n",
      "1      638\n",
      "Name: count, dtype: int64\n"
     ]
    },
    {
     "data": {
      "image/png": "[encoded data removed]",
      "text/plain": [
       "<Figure size 640x480 with 1 Axes>"
      ]
     },
     "metadata": {},
     "output_type": "display_data"
    }
   ],
   "source": [
    "distribution = clean_data['stroke'].value_counts()\n",
    "print(\"Class-wise count of stroke outcomes:\\n\", distribution)\n",
    "\n",
    "fig, ax = plt.subplots()\n",
    "ax.pie(distribution, labels=distribution.index, autopct='%1.1f%%', startangle=90)\n",
    "ax.axis('equal')\n",
    "plt.show()\n"
   ]
  },
  {
   "cell_type": "code",
   "execution_count": 183,
   "metadata": {
    "colab": {
     "base_uri": "https://localhost:8080/"
    },
    "id": "-gq7zgZxQTb0",
    "outputId": "44b7cf6b-868f-446c-ebfc-7029608bb7e7"
   },
   "outputs": [
    {
     "name": "stdout",
     "output_type": "stream",
     "text": [
      "stroke\n",
      "0    29470\n",
      "1      638\n",
      "Name: count, dtype: int64\n",
      "(30108, 10)\n",
      "(30108,)\n"
     ]
    }
   ],
   "source": [
    "X = clean_data.drop('stroke', axis=1)\n",
    "y = clean_data['stroke']\n",
    "print(y.value_counts())\n",
    "print(X.shape)\n",
    "print(y.shape)"
   ]
  },
  {
   "cell_type": "code",
   "execution_count": 184,
   "metadata": {
    "colab": {
     "base_uri": "https://localhost:8080/",
     "height": 367
    },
    "id": "ec7s1dswQznN",
    "outputId": "2520b115-0b75-4e95-f5be-d0203ca43578"
   },
   "outputs": [
    {
     "name": "stdout",
     "output_type": "stream",
     "text": [
      "Balanced Training Set Distribution → [18860 18912]\n",
      "Validation Set Distribution → [4716  102]\n",
      "Testing Set Distribution → [5894  128]\n"
     ]
    }
   ],
   "source": [
    "from sklearn.model_selection import train_test_split\n",
    "from imblearn.over_sampling import ADASYN\n",
    "\n",
    "def prepare_data_splits(X, target, test_size=0.2, random_state=42):\n",
    "    X_train, X_test, y_train, y_test = train_test_split(X, target, test_size=test_size, random_state=random_state, stratify=target)\n",
    "    X_train, X_valid, y_train, y_valid = train_test_split(X_train, y_train, test_size=test_size, random_state=random_state, stratify=y_train)\n",
    "    return X_train, X_valid, X_test, y_train, y_valid, y_test\n",
    "\n",
    "X = clean_data.drop('stroke', axis=1)\n",
    "y = clean_data['stroke']\n",
    "\n",
    "X_train, X_valid, X_test, y_train, y_valid, y_test = prepare_data_splits(X, y, test_size=0.2, random_state=42)\n",
    "\n",
    "synth_balancer = ADASYN(random_state=42, sampling_strategy='minority')\n",
    "X_train_resampled, y_train_resampled = synth_balancer.fit_resample(X_train, y_train)\n",
    "\n",
    "_, train_counts = np.unique(y_train_resampled, return_counts=True)\n",
    "_, valid_counts = np.unique(y_valid, return_counts=True)\n",
    "_, test_counts = np.unique(y_test, return_counts=True)\n",
    "\n",
    "print(\"Balanced Training Set Distribution →\", train_counts)\n",
    "print(\"Validation Set Distribution →\", valid_counts)\n",
    "print(\"Testing Set Distribution →\", test_counts)\n"
   ]
  },
  {
   "cell_type": "code",
   "execution_count": 185,
   "metadata": {
    "id": "J7ohgpXhhqod"
   },
   "outputs": [
    {
     "name": "stdout",
     "output_type": "stream",
     "text": [
      "stroke\n",
      "1    29512\n",
      "0    29470\n",
      "Name: count, dtype: int64\n",
      "(58982, 10)\n",
      "(58982,)\n"
     ]
    }
   ],
   "source": [
    "    from imblearn.over_sampling import ADASYN\n",
    "    # create the  object with the desired sampling strategy.\n",
    "    adasyn=ADASYN(random_state=42,sampling_strategy='minority')\n",
    "    # fit the object to our training data\n",
    "    X_resampled,y_resampled=adasyn.fit_resample(clean_data.drop('stroke',axis=1),clean_data['stroke'])\n",
    "    print(y_resampled.value_counts())\n",
    "    print(X_resampled.shape)\n",
    "    print(y_resampled.shape)"
   ]
  },
  {
   "cell_type": "code",
   "execution_count": 186,
   "metadata": {
    "id": "6hxtL4UNiifG"
   },
   "outputs": [
    {
     "data": {
      "text/plain": [
       "(-1.0999999999990544,\n",
       " 1.0999999999945465,\n",
       " -1.0999999999945473,\n",
       " 1.0999999999997403)"
      ]
     },
     "execution_count": 186,
     "metadata": {},
     "output_type": "execute_result"
    },
    {
     "data": {
      "image/png": "[encoded data removed]",
      "text/plain": [
       "<Figure size 640x480 with 1 Axes>"
      ]
     },
     "metadata": {},
     "output_type": "display_data"
    }
   ],
   "source": [
    "_class_distribution=y_resampled.value_counts()\n",
    "fig,ax=plt.subplots()\n",
    "ax.pie(_class_distribution,labels=_class_distribution.index,autopct='%1.1f%%',startangle=90)\n",
    "ax.axis('equal')"
   ]
  },
  {
   "cell_type": "code",
   "execution_count": 187,
   "metadata": {
    "id": "hvOqsVRsobO6"
   },
   "outputs": [],
   "source": [
    "from sklearn.preprocessing import StandardScaler\n",
    "\n",
    "standardizer = StandardScaler()\n",
    "X_train_resampled = standardizer.fit_transform(X_train_resampled)\n",
    "X_valid = standardizer.transform(X_valid)\n",
    "X_test = standardizer.transform(X_test)\n"
   ]
  },
  {
   "cell_type": "markdown",
   "metadata": {
    "id": "XTSKQ5BPo4Qq"
   },
   "source": [
    "#### Random Forest (RF)"
   ]
  },
  {
   "cell_type": "code",
   "execution_count": 189,
   "metadata": {
    "id": "NTmvnXkL06mJ"
   },
   "outputs": [
    {
     "name": "stdout",
     "output_type": "stream",
     "text": [
      "Performance Summary (Random Forest on test data):\n",
      "              precision    recall  f1-score   support\n",
      "\n",
      "           0       0.98      0.96      0.97      5894\n",
      "           1       0.03      0.05      0.04       128\n",
      "\n",
      "    accuracy                           0.94      6022\n",
      "   macro avg       0.50      0.51      0.50      6022\n",
      "weighted avg       0.96      0.94      0.95      6022\n",
      "\n",
      "Random Forest Confusion Matrix Output:\n",
      "[[5671  223]\n",
      " [ 121    7]]\n"
     ]
    },
    {
     "data": {
      "image/png": "[encoded data removed]",
      "text/plain": [
       "<Figure size 600x600 with 2 Axes>"
      ]
     },
     "metadata": {},
     "output_type": "display_data"
    },
    {
     "name": "stdout",
     "output_type": "stream",
     "text": [
      "Test Accuracy → 0.94\n",
      "Precision Score → 0.03\n",
      "Recall Score → 0.05\n",
      "F1 Score → 0.04\n",
      "Sensitivity → 0.05\n",
      "Specificity → 0.96\n",
      "AUC Score → 0.72\n"
     ]
    },
    {
     "data": {
      "image/png": "[encoded data removed]",
      "text/plain": [
       "<Figure size 640x480 with 1 Axes>"
      ]
     },
     "metadata": {},
     "output_type": "display_data"
    }
   ],
   "source": [
    "from sklearn.ensemble import RandomForestClassifier\n",
    "from sklearn.metrics import (\n",
    "    classification_report, confusion_matrix, accuracy_score,\n",
    "    precision_score, recall_score, f1_score, roc_curve, roc_auc_score\n",
    ")\n",
    "import matplotlib.pyplot as plt\n",
    "import seaborn as sns\n",
    "\n",
    "def get_sensitivity_specificity(actual, predicted):\n",
    "    conf_matrix = confusion_matrix(actual, predicted)\n",
    "    tn, fp, fn, tp = conf_matrix.ravel()\n",
    "    sens = tp / (tp + fn)\n",
    "    spec = tn / (tn + fp)\n",
    "    return sens, spec\n",
    "\n",
    "# Initialize and train the model\n",
    "random_forest = RandomForestClassifier(\n",
    "    random_state=42\n",
    ")\n",
    "random_forest.fit(X_train_resampled, y_train_resampled)\n",
    "\n",
    "# Predict test set outcomes\n",
    "predicted_rf = random_forest.predict(X_test)\n",
    "predicted_rf_proba = random_forest.predict_proba(X_test)\n",
    "\n",
    "print(\"Performance Summary (Random Forest on test data):\")\n",
    "print(classification_report(y_test, predicted_rf))\n",
    "\n",
    "print(\"Random Forest Confusion Matrix Output:\")\n",
    "print(confusion_matrix(y_test, predicted_rf))\n",
    "\n",
    "# Confusion matrix heatmap\n",
    "conf_matrix = confusion_matrix(y_test, predicted_rf)\n",
    "plt.figure(figsize=(6, 6))\n",
    "sns.heatmap(conf_matrix, annot=True, fmt='d', cmap='Blues',\n",
    "            xticklabels=['No Stroke', 'Stroke'],\n",
    "            yticklabels=['No Stroke', 'Stroke'])\n",
    "plt.title('Random Forest: Confusion Matrix Visualization')\n",
    "plt.ylabel('Observed Outcome')\n",
    "plt.xlabel('Model Prediction')\n",
    "plt.show()\n",
    "\n",
    "# Core evaluation metrics\n",
    "acc_rf = accuracy_score(y_test, predicted_rf)\n",
    "print(f\"Test Accuracy → {acc_rf:.2f}\")\n",
    "\n",
    "rf_precision = precision_score(y_test, predicted_rf)\n",
    "rf_recall = recall_score(y_test, predicted_rf)\n",
    "rf_f1 = f1_score(y_test, predicted_rf)\n",
    "print(f\"Precision Score → {rf_precision:.2f}\")\n",
    "print(f\"Recall Score → {rf_recall:.2f}\")\n",
    "print(f\"F1 Score → {rf_f1:.2f}\")\n",
    "\n",
    "# Sensitivity, Specificity, AUC\n",
    "sensitivity_rf, specificity_rf = get_sensitivity_specificity(y_test, predicted_rf)\n",
    "false_pos_rate, true_pos_rate, _ = roc_curve(y_test, predicted_rf_proba[:, 1])\n",
    "rf_auc = roc_auc_score(y_test, predicted_rf_proba[:, 1])\n",
    "\n",
    "print(f\"Sensitivity → {sensitivity_rf:.2f}\")\n",
    "print(f\"Specificity → {specificity_rf:.2f}\")\n",
    "print(f\"AUC Score → {rf_auc:.2f}\")\n",
    "\n",
    "# ROC Curve\n",
    "plt.figure()\n",
    "plt.plot(false_pos_rate, true_pos_rate, color='blue', label=f'AUC = {rf_auc:.2f}')\n",
    "plt.plot([0, 1], [0, 1], linestyle='--', color='green')\n",
    "plt.xlim([-0.05, 1.0])\n",
    "plt.ylim([0.0, 1.05])\n",
    "plt.xlabel('False Positive Rate')\n",
    "plt.ylabel('True Positive Rate')\n",
    "plt.title('Random Forest ROC Curve')\n",
    "plt.legend(loc='lower right')\n",
    "plt.show()\n"
   ]
  },
  {
   "cell_type": "markdown",
   "metadata": {
    "id": "noYKwymtn7SF"
   },
   "source": [
    "### XGBoost (XGB)"
   ]
  },
  {
   "cell_type": "code",
   "execution_count": 191,
   "metadata": {
    "id": "fSPQIA971sPD"
   },
   "outputs": [
    {
     "name": "stderr",
     "output_type": "stream",
     "text": [
      "C:\\Users\\Nazm\\anaconda3\\Lib\\site-packages\\xgboost\\core.py:158: UserWarning: [03:06:11] WARNING: C:\\buildkite-agent\\builds\\buildkite-windows-cpu-autoscaling-group-i-0015a694724fa8361-1\\xgboost\\xgboost-ci-windows\\src\\learner.cc:740: \n",
      "Parameters: { \"use_label_encoder\" } are not used.\n",
      "\n",
      "  warnings.warn(smsg, UserWarning)\n"
     ]
    },
    {
     "name": "stdout",
     "output_type": "stream",
     "text": [
      "Evaluation metrics for the XGBoost classifier:\n",
      "              precision    recall  f1-score   support\n",
      "\n",
      "           0       0.98      0.95      0.97      5894\n",
      "           1       0.04      0.09      0.06       128\n",
      "\n",
      "    accuracy                           0.94      6022\n",
      "   macro avg       0.51      0.52      0.51      6022\n",
      "weighted avg       0.96      0.94      0.95      6022\n",
      "\n",
      "Confusion matrix (actual vs predicted):\n",
      "[[5624  270]\n",
      " [ 116   12]]\n"
     ]
    },
    {
     "data": {
      "image/png": "[encoded data removed]",
      "text/plain": [
       "<Figure size 600x600 with 2 Axes>"
      ]
     },
     "metadata": {},
     "output_type": "display_data"
    },
    {
     "name": "stdout",
     "output_type": "stream",
     "text": [
      "Accuracy Score → 0.94\n",
      "Precision → 0.04\n",
      "Recall → 0.09\n",
      "F1 Score → 0.06\n",
      "Sensitivity → 0.09\n",
      "Specificity → 0.95\n",
      "AUC Score → 0.71\n"
     ]
    },
    {
     "data": {
      "image/png": "[encoded data removed]",
      "text/plain": [
       "<Figure size 640x480 with 1 Axes>"
      ]
     },
     "metadata": {},
     "output_type": "display_data"
    }
   ],
   "source": [
    "from xgboost import XGBClassifier\n",
    "from sklearn.metrics import (\n",
    "    classification_report, confusion_matrix, accuracy_score,\n",
    "    precision_score, recall_score, f1_score, roc_curve, roc_auc_score\n",
    ")\n",
    "import matplotlib.pyplot as plt\n",
    "import seaborn as sns\n",
    "\n",
    "# Initialize and train the XGBoost classifier\n",
    "boosted_clf = XGBClassifier(\n",
    "    random_state=42,\n",
    "    use_label_encoder=False,\n",
    "    eval_metric='logloss'\n",
    ")\n",
    "boosted_clf.fit(X_train_resampled, y_train_resampled)\n",
    "\n",
    "# Make predictions and generate probabilities\n",
    "predicted_labels = boosted_clf.predict(X_test)\n",
    "predicted_probs = boosted_clf.predict_proba(X_test)\n",
    "\n",
    "# Display classification performance\n",
    "print(\"Evaluation metrics for the XGBoost classifier:\")\n",
    "print(classification_report(y_test, predicted_labels))\n",
    "\n",
    "print(\"Confusion matrix (actual vs predicted):\")\n",
    "print(confusion_matrix(y_test, predicted_labels))\n",
    "\n",
    "# Visualize confusion matrix\n",
    "matrix = confusion_matrix(y_test, predicted_labels)\n",
    "plt.figure(figsize=(6, 6))\n",
    "sns.heatmap(matrix, annot=True, fmt='d', cmap='Blues',\n",
    "            xticklabels=['No Stroke', 'Stroke'],\n",
    "            yticklabels=['No Stroke', 'Stroke'])\n",
    "plt.title('XGBoost: Confusion Matrix Heatmap')\n",
    "plt.ylabel('Actual Class')\n",
    "plt.xlabel('Predicted Class')\n",
    "plt.show()\n",
    "\n",
    "# Accuracy and other evaluation metrics\n",
    "accuracy = accuracy_score(y_test, predicted_labels)\n",
    "print(f\"Accuracy Score → {accuracy:.2f}\")\n",
    "\n",
    "precision = precision_score(y_test, predicted_labels)\n",
    "recall = recall_score(y_test, predicted_labels)\n",
    "f1 = f1_score(y_test, predicted_labels)\n",
    "\n",
    "print(f\"Precision → {precision:.2f}\")\n",
    "print(f\"Recall → {recall:.2f}\")\n",
    "print(f\"F1 Score → {f1:.2f}\")\n",
    "\n",
    "# Sensitivity, specificity, and AUC\n",
    "sens_xgb, spec_xgb = get_sensitivity_specificity(y_test, predicted_labels)\n",
    "fpr, tpr, _ = roc_curve(y_test, predicted_probs[:, 1])\n",
    "auc_val = roc_auc_score(y_test, predicted_probs[:, 1])\n",
    "\n",
    "print(f\"Sensitivity → {sens_xgb:.2f}\")\n",
    "print(f\"Specificity → {spec_xgb:.2f}\")\n",
    "print(f\"AUC Score → {auc_val:.2f}\")\n",
    "\n",
    "# Plot ROC curve\n",
    "plt.figure()\n",
    "plt.plot(fpr, tpr, label=f'AUC = {auc_val:.2f}', color='blue')\n",
    "plt.plot([0, 1], [0, 1], linestyle='--', color='green')\n",
    "plt.xlim([-0.05, 1.0])\n",
    "plt.ylim([0.0, 1.05])\n",
    "plt.xlabel('False Positive Rate')\n",
    "plt.ylabel('True Positive Rate')\n",
    "plt.title('ROC Curve - XGBoost Performance')\n",
    "plt.legend(loc='lower right')\n",
    "plt.show()\n"
   ]
  },
  {
   "cell_type": "markdown",
   "metadata": {
    "id": "O9AwTnzApVSQ"
   },
   "source": [
    "## Performance Benchmark Across Models\n"
   ]
  },
  {
   "cell_type": "code",
   "execution_count": 193,
   "metadata": {
    "id": "z8Ly3O34xF6u"
   },
   "outputs": [
    {
     "data": {
      "image/png": "[encoded data removed]",
      "text/plain": [
       "<Figure size 800x600 with 1 Axes>"
      ]
     },
     "metadata": {},
     "output_type": "display_data"
    }
   ],
   "source": [
    "import matplotlib.pyplot as plt\n",
    "import numpy as np\n",
    "\n",
    "# Model performance metrics\n",
    "ml_names = ['RF', 'XGB']\n",
    "sensitivities = [sensitivity_rf, sens_xgb]\n",
    "specificities = [specificity_rf, spec_xgb]\n",
    "auc_scores = [rf_auc, auc_val]\n",
    "\n",
    "# Helper to annotate bars\n",
    "def display_bar_labels(bars):\n",
    "    for bar in bars:\n",
    "        score = bar.get_height()\n",
    "        plt.text(bar.get_x() + bar.get_width() / 2.0, score, round(score, 2),\n",
    "                 ha='center', va='bottom')\n",
    "\n",
    "# Setup bar chart\n",
    "fig, ax = plt.subplots(figsize=(8, 6))\n",
    "bar_width = 0.2\n",
    "x_positions = np.arange(len(ml_names))\n",
    "\n",
    "# Draw grouped bars\n",
    "bars_sens = ax.bar(x_positions, sensitivities, bar_width, label='Sensitivity', color='blue')\n",
    "bars_spec = ax.bar(x_positions + bar_width, specificities, bar_width, label='Specificity', color='orange')\n",
    "bars_auc = ax.bar(x_positions + 2 * bar_width, auc_scores, bar_width, label='AUC', color='green')\n",
    "\n",
    "# Axis and appearance tweaks\n",
    "ax.set_xlabel('Model Type')\n",
    "ax.set_ylabel('Performance Metric')\n",
    "ax.set_title('Comparison of Classification Metrics Across Models')\n",
    "ax.set_xticks(x_positions + bar_width * 1.5)\n",
    "ax.set_xticklabels(ml_names)\n",
    "ax.set_ylim(0, 1.1)\n",
    "ax.legend()\n",
    "\n",
    "# Add score annotations\n",
    "display_bar_labels(bars_sens)\n",
    "display_bar_labels(bars_spec)\n",
    "display_bar_labels(bars_auc)\n",
    "\n",
    "plt.show()\n"
   ]
  },
  {
   "cell_type": "markdown",
   "metadata": {
    "id": "RnghatObUQAH"
   },
   "source": [
    "### Tree-Based Feature Importance"
   ]
  },
  {
   "cell_type": "code",
   "execution_count": 195,
   "metadata": {
    "id": "OYwms5rdt1S2"
   },
   "outputs": [
    {
     "name": "stdout",
     "output_type": "stream",
     "text": [
      "Top features based on Random Forest importance:\n",
      "age → 0.4130\n",
      "avg_glucose_level → 0.2057\n",
      "bmi → 0.1445\n",
      "smoking_status → 0.0582\n",
      "work_type → 0.0504\n",
      "Residence_type → 0.0491\n",
      "gender → 0.0330\n",
      "ever_married → 0.0185\n",
      "hypertension → 0.0176\n",
      "heart_disease → 0.0100\n"
     ]
    },
    {
     "data": {
      "image/png": "[encoded data removed]",
      "text/plain": [
       "<Figure size 1000x600 with 1 Axes>"
      ]
     },
     "metadata": {},
     "output_type": "display_data"
    },
    {
     "name": "stdout",
     "output_type": "stream",
     "text": [
      "Top features based on XGBoost importance:\n",
      "age → 0.1736\n",
      "Residence_type → 0.1526\n",
      "work_type → 0.1274\n",
      "gender → 0.1221\n",
      "heart_disease → 0.0895\n",
      "ever_married → 0.0866\n",
      "smoking_status → 0.0848\n",
      "hypertension → 0.0729\n",
      "avg_glucose_level → 0.0471\n",
      "bmi → 0.0435\n"
     ]
    },
    {
     "data": {
      "image/png": "[encoded data removed]",
      "text/plain": [
       "<Figure size 1000x600 with 1 Axes>"
      ]
     },
     "metadata": {},
     "output_type": "display_data"
    }
   ],
   "source": [
    "import numpy as np\n",
    "import matplotlib.pyplot as plt\n",
    "\n",
    "# Retrieve feature names from original dataset\n",
    "feature_names = clean_data.drop('stroke', axis=1).columns\n",
    "\n",
    "# Random Forest: Calculate and sort feature importances\n",
    "rf_importances = random_forest.feature_importances_\n",
    "rf_sorted_idx = np.argsort(rf_importances)[::-1]\n",
    "\n",
    "print(\"Top features based on Random Forest importance:\")\n",
    "for idx in rf_sorted_idx:\n",
    "    print(f\"{feature_names[idx]} → {rf_importances[idx]:.4f}\")\n",
    "\n",
    "# Visualize Random Forest feature importance\n",
    "plt.figure(figsize=(10, 6))\n",
    "plt.bar(range(len(rf_importances)), rf_importances[rf_sorted_idx], color='blue')\n",
    "plt.xticks(range(len(rf_importances)), [feature_names[i] for i in rf_sorted_idx], rotation=90)\n",
    "plt.title('Feature Contribution - Random Forest')\n",
    "plt.xlabel('Input Features')\n",
    "plt.ylabel('Importance Value')\n",
    "plt.tight_layout()\n",
    "plt.show()\n",
    "\n",
    "# XGBoost: Calculate and sort feature importances\n",
    "xgb_importances = boosted_clf.feature_importances_\n",
    "xgb_sorted_idx = np.argsort(xgb_importances)[::-1]\n",
    "\n",
    "print(\"Top features based on XGBoost importance:\")\n",
    "for idx in xgb_sorted_idx:\n",
    "    print(f\"{feature_names[idx]} → {xgb_importances[idx]:.4f}\")\n",
    "\n",
    "# Visualize XGBoost feature importance\n",
    "plt.figure(figsize=(10, 6))\n",
    "plt.bar(range(len(xgb_importances)), xgb_importances[xgb_sorted_idx], color='green')\n",
    "plt.xticks(range(len(xgb_importances)), [feature_names[i] for i in xgb_sorted_idx], rotation=90)\n",
    "plt.title('Feature Contribution - XGBoost')\n",
    "plt.xlabel('Input Features')\n",
    "plt.ylabel('Importance Value')\n",
    "plt.tight_layout()\n",
    "plt.show()\n"
   ]
  },
  {
   "cell_type": "markdown",
   "metadata": {
    "id": "ceFHgXQ0UYBo"
   },
   "source": [
    "### Permutation-Based Feature Importance"
   ]
  },
  {
   "cell_type": "code",
   "execution_count": null,
   "metadata": {
    "id": "3fdRTzUqUbQ9"
   },
   "outputs": [
    {
     "name": "stdout",
     "output_type": "stream",
     "text": [
      "Permutation Importance (Random Forest - ROC AUC):\n",
      "age → 0.2064 ± 0.0222\n",
      "avg_glucose_level → 0.0214 ± 0.0069\n",
      "bmi → 0.0037 ± 0.0106\n",
      "gender → -0.0010 ± 0.0045\n",
      "ever_married → -0.0028 ± 0.0045\n",
      "heart_disease → -0.0051 ± 0.0032\n",
      "Residence_type → -0.0074 ± 0.0088\n",
      "hypertension → -0.0110 ± 0.0038\n",
      "smoking_status → -0.0136 ± 0.0068\n",
      "work_type → -0.0171 ± 0.0047\n"
     ]
    },
    {
     "data": {
      "image/png": "[encoded data removed]",
      "text/plain": [
       "<Figure size 1000x600 with 1 Axes>"
      ]
     },
     "metadata": {},
     "output_type": "display_data"
    }
   ],
   "source": [
    "from sklearn.inspection import permutation_importance\n",
    "import matplotlib.pyplot as plt\n",
    "\n",
    "# Permutation Importance - Random Forest\n",
    "rf_perm_result = permutation_importance(\n",
    "    random_forest, X_test, y_test, n_repeats=10, random_state=42, scoring='roc_auc'\n",
    ")\n",
    "rf_perm_order = np.argsort(rf_perm_result.importances_mean)[::-1]\n",
    "\n",
    "print(\"Permutation Importance (Random Forest - ROC AUC):\")\n",
    "for idx in rf_perm_order:\n",
    "    mean_score = rf_perm_result.importances_mean[idx]\n",
    "    std_score = rf_perm_result.importances_std[idx]\n",
    "    print(f\"{feature_names[idx]} → {mean_score:.4f} ± {std_score:.4f}\")\n",
    "\n",
    "# Bar chart - RF permutation importance\n",
    "plt.figure(figsize=(10, 6))\n",
    "plt.bar(range(len(rf_perm_result.importances_mean)),\n",
    "        rf_perm_result.importances_mean[rf_perm_order],\n",
    "        yerr=rf_perm_result.importances_std[rf_perm_order],\n",
    "        color='blue')\n",
    "plt.xticks(range(len(rf_perm_result.importances_mean)),\n",
    "           [feature_names[i] for i in rf_perm_order], rotation=90)\n",
    "plt.title('Permutation-Based Importance — Random Forest')\n",
    "plt.xlabel('Features')\n",
    "plt.ylabel('Mean Drop in AUC')\n",
    "plt.tight_layout()\n",
    "plt.show()\n",
    "\n",
    "# Permutation Importance - XGBoost\n",
    "xgb_perm_result = permutation_importance(\n",
    "    boosted_clf, X_test, y_test, n_repeats=10, random_state=42, scoring='roc_auc'\n",
    ")\n",
    "xgb_perm_order = np.argsort(xgb_perm_result.importances_mean)[::-1]\n",
    "\n",
    "print(\"Permutation Importance (XGBoost - ROC AUC):\")\n",
    "for idx in xgb_perm_order:\n",
    "    mean_score = xgb_perm_result.importances_mean[idx]\n",
    "    std_score = xgb_perm_result.importances_std[idx]\n",
    "    print(f\"{feature_names[idx]} → {mean_score:.4f} ± {std_score:.4f}\")\n",
    "\n",
    "# Bar chart - XGB permutation importance\n",
    "plt.figure(figsize=(10, 6))\n",
    "plt.bar(range(len(xgb_perm_result.importances_mean)),\n",
    "        xgb_perm_result.importances_mean[xgb_perm_order],\n",
    "        yerr=xgb_perm_result.importances_std[xgb_perm_order],\n",
    "        color='green')\n",
    "plt.xticks(range(len(xgb_perm_result.importances_mean)),\n",
    "           [feature_names[i] for i in xgb_perm_order], rotation=90)\n",
    "plt.title('Permutation-Based Importance — XGBoost')\n",
    "plt.xlabel('Features')\n",
    "plt.ylabel('Mean Drop in AUC')\n",
    "plt.tight_layout()\n",
    "plt.show()\n"
   ]
  },
  {
   "cell_type": "markdown",
   "metadata": {
    "id": "LKnpxCZyW4Lu"
   },
   "source": [
    "## Hyperparameter Tuning"
   ]
  },
  {
   "cell_type": "code",
   "execution_count": null,
   "metadata": {
    "id": "hO-MOFMZW3fl"
   },
   "outputs": [],
   "source": [
    "from sklearn.model_selection import GridSearchCV\n",
    "from sklearn.ensemble import RandomForestClassifier\n",
    "from xgboost import XGBClassifier\n",
    "from sklearn.metrics import roc_auc_score\n",
    "\n",
    "# --- Random Forest Hyperparameter Tuning ---\n",
    "# Define the parameter space\n",
    "rf_param_grid = {\n",
    "    'n_estimators': [100, 200, 300],\n",
    "    'max_depth': [10, 20, None],\n",
    "    'min_samples_split': [2, 5, 10],\n",
    "    'min_samples_leaf': [1, 2, 4]\n",
    "}\n",
    "\n",
    "# Initialize the Random Forest classifier\n",
    "rf_clf = RandomForestClassifier(random_state=42)\n",
    "\n",
    "# Grid Search with cross-validation\n",
    "rf_grid_search = GridSearchCV(\n",
    "    estimator=rf_clf,\n",
    "    param_grid=rf_param_grid,\n",
    "    cv=5,\n",
    "    scoring='roc_auc',\n",
    "    n_jobs=-1,\n",
    "    verbose=1\n",
    ")\n",
    "rf_grid_search.fit(X_train_resampled, y_train_resampled)\n",
    "\n",
    "# Best parameters and CV score\n",
    "print(\"Top parameters for Random Forest →\", rf_grid_search.best_params_)\n",
    "print(\"Cross-validated AUC (Random Forest) →\", rf_grid_search.best_score_)\n",
    "\n",
    "# Evaluate optimized RF model on test set\n",
    "rf_best = rf_grid_search.best_estimator_\n",
    "rf_preds_proba = rf_best.predict_proba(X_test)[:, 1]\n",
    "rf_test_auc = roc_auc_score(y_test, rf_preds_proba)\n",
    "print(\"Final AUC on test set (Random Forest) →\", rf_test_auc)\n",
    "\n",
    "# --- XGBoost Hyperparameter Tuning ---\n",
    "# Define the parameter space\n",
    "xgb_param_grid = {\n",
    "    'n_estimators': [100, 200, 300],\n",
    "    'max_depth': [3, 6, 9],\n",
    "    'learning_rate': [0.01, 0.1, 0.3],\n",
    "    'subsample': [0.7, 0.8, 1.0]\n",
    "}\n",
    "\n",
    "# Initialize the XGBoost classifier\n",
    "boosted_clf = XGBClassifier(\n",
    "    random_state=42,\n",
    "    use_label_encoder=False,\n",
    "    eval_metric='logloss'\n",
    ")\n",
    "\n",
    "# Grid Search with cross-validation\n",
    "xgb_grid_search = GridSearchCV(\n",
    "    estimator=boosted_clf,\n",
    "    param_grid=xgb_param_grid,\n",
    "    cv=5,\n",
    "    scoring='roc_auc',\n",
    "    n_jobs=-1,\n",
    "    verbose=1\n",
    ")\n",
    "xgb_grid_search.fit(X_train_resampled, y_train_resampled)\n",
    "\n",
    "# Best parameters and CV score\n",
    "print(\"Top parameters for XGBoost →\", xgb_grid_search.best_params_)\n",
    "print(\"Cross-validated AUC (XGBoost) →\", xgb_grid_search.best_score_)\n",
    "\n",
    "# Evaluate optimized XGB model on test set\n",
    "xgb_best = xgb_grid_search.best_estimator_\n",
    "xgb_preds_proba = xgb_best.predict_proba(X_test)[:, 1]\n",
    "xgb_test_auc = roc_auc_score(y_test, xgb_preds_proba)\n",
    "print(\"Final AUC on test set (XGBoost) →\", xgb_test_auc)\n"
   ]
  },
  {
   "cell_type": "markdown",
   "metadata": {
    "id": "Dmpjuw8__Ras"
   },
   "source": [
    "##Hypertuned Randomforest Classifier"
   ]
  },
  {
   "cell_type": "code",
   "execution_count": null,
   "metadata": {
    "id": "BqwIPLIk_Qx0"
   },
   "outputs": [],
   "source": [
    "from sklearn.ensemble import RandomForestClassifier\n",
    "from sklearn.metrics import (\n",
    "    classification_report, confusion_matrix, accuracy_score,\n",
    "    precision_score, recall_score, f1_score, roc_curve, roc_auc_score\n",
    ")\n",
    "import matplotlib.pyplot as plt\n",
    "import seaborn as sns\n",
    "\n",
    "# Define metric extraction function\n",
    "def get_sensitivity_specificity(y_true, y_pred):\n",
    "    matrix = confusion_matrix(y_true, y_pred)\n",
    "    tn, fp, fn, tp = matrix.ravel()\n",
    "    sensitivity = tp / (tp + fn)\n",
    "    specificity = tn / (tn + fp)\n",
    "    return sensitivity, specificity\n",
    "\n",
    "# Initialize and train hypertuned RF model\n",
    "rf_model = RandomForestClassifier(\n",
    "    random_state=42,\n",
    "    max_depth=None,\n",
    "    min_samples_leaf=1,\n",
    "    min_samples_split=2,\n",
    "    n_estimators=300\n",
    ")\n",
    "rf_model.fit(X_train_resampled, y_train_resampled)\n",
    "\n",
    "# Predict on test set\n",
    "rf_preds = rf_model.predict(X_test)\n",
    "rf_probs = rf_model.predict_proba(X_test)\n",
    "\n",
    "# Classification report\n",
    "print(\"Random Forest Evaluation after Hyperparameter Tuning:\")\n",
    "print(classification_report(y_test, rf_preds))\n",
    "\n",
    "# Confusion matrix summary\n",
    "print(\"Random Forest: Confusion Matrix (Actual vs Predicted):\")\n",
    "print(confusion_matrix(y_test, rf_preds))\n",
    "\n",
    "# Heatmap of confusion matrix\n",
    "rf_cm = confusion_matrix(y_test, rf_preds)\n",
    "plt.figure(figsize=(6, 6))\n",
    "sns.heatmap(rf_cm, annot=True, fmt='d', cmap='Blues',\n",
    "            xticklabels=['No Stroke', 'Stroke'],\n",
    "            yticklabels=['No Stroke', 'Stroke'])\n",
    "plt.title('Random Forest: Confusion Matrix Display')\n",
    "plt.ylabel('True Class')\n",
    "plt.xlabel('Predicted Class')\n",
    "plt.show()\n",
    "\n",
    "# Accuracy\n",
    "acc_rf = accuracy_score(y_test, rf_preds)\n",
    "print(f\"Accuracy → {acc_rf:.2f}\")\n",
    "\n",
    "# Precision, Recall, F1\n",
    "rf_precision = precision_score(y_test, rf_preds)\n",
    "rf_recall = recall_score(y_test, rf_preds)\n",
    "rf_f1 = f1_score(y_test, rf_preds)\n",
    "\n",
    "print(f\"Precision → {rf_precision:.2f}\")\n",
    "print(f\"Recall → {rf_recall:.2f}\")\n",
    "print(f\"F1 Score → {rf_f1:.2f}\")\n",
    "\n",
    "# Sensitivity, Specificity, AUC\n",
    "sensitivity_rf, specificity_rf = get_sensitivity_specificity(y_test, rf_preds)\n",
    "fpr_rf, tpr_rf, _ = roc_curve(y_test, rf_probs[:, 1])\n",
    "rf_auc = roc_auc_score(y_test, rf_probs[:, 1])\n",
    "\n",
    "print(f\"Sensitivity → {sensitivity_rf:.2f}\")\n",
    "print(f\"Specificity → {specificity_rf:.2f}\")\n",
    "print(f\"AUC Score → {rf_auc:.2f}\")\n",
    "\n",
    "# ROC Curve\n",
    "plt.figure()\n",
    "plt.plot(fpr_rf, tpr_rf, label=f'AUC = {rf_auc:.2f}', color='blue')\n",
    "plt.plot([0, 1], [0, 1], linestyle='--', color='green')\n",
    "plt.xlim([-0.05, 1.0])\n",
    "plt.ylim([0.0, 1.05])\n",
    "plt.xlabel('False Positive Rate')\n",
    "plt.ylabel('True Positive Rate')\n",
    "plt.title('Random Forest ROC Curve')\n",
    "plt.legend(loc='lower right')\n",
    "plt.show()\n"
   ]
  },
  {
   "cell_type": "markdown",
   "metadata": {
    "id": "ia3MfUHr_rk8"
   },
   "source": [
    "##Hypertuned XGBoost Model"
   ]
  },
  {
   "cell_type": "code",
   "execution_count": null,
   "metadata": {
    "id": "ZR2JrI_5_zF0"
   },
   "outputs": [],
   "source": [
    "from xgboost import XGBClassifier\n",
    "from sklearn.metrics import (\n",
    "    classification_report, confusion_matrix, accuracy_score,\n",
    "    precision_score, recall_score, f1_score, roc_curve, roc_auc_score\n",
    ")\n",
    "import matplotlib.pyplot as plt\n",
    "import seaborn as sns\n",
    "\n",
    "# Define and train hypertuned XGBoost classifier\n",
    "boosted_clf = XGBClassifier(\n",
    "    random_state=42,\n",
    "    use_label_encoder=False,\n",
    "    eval_metric='logloss',\n",
    "    learning_rate=0.3,\n",
    "    max_depth=9,\n",
    "    n_estimators=300,\n",
    "    subsample=0.8\n",
    ")\n",
    "boosted_clf.fit(X_train_resampled, y_train_resampled)\n",
    "\n",
    "# Generate predictions and class probabilities\n",
    "xgb_preds = boosted_clf.predict(X_test)\n",
    "xgb_probs = boosted_clf.predict_proba(X_test)\n",
    "\n",
    "# Output classification performance\n",
    "print(\"XGBoost Test Results (Hypertuned):\")\n",
    "print(classification_report(y_test, xgb_preds))\n",
    "\n",
    "print(\"Confusion Matrix Output (XGBoost):\")\n",
    "print(confusion_matrix(y_test, xgb_preds))\n",
    "\n",
    "# Plot confusion matrix\n",
    "xgb_cm = confusion_matrix(y_test, xgb_preds)\n",
    "plt.figure(figsize=(6, 6))\n",
    "sns.heatmap(xgb_cm, annot=True, fmt='d', cmap='Blues',\n",
    "            xticklabels=['No Stroke', 'Stroke'],\n",
    "            yticklabels=['No Stroke', 'Stroke'])\n",
    "plt.title('XGBoost Confusion Matrix View')\n",
    "plt.ylabel('Observed Class')\n",
    "plt.xlabel('Predicted Class')\n",
    "plt.show()\n",
    "\n",
    "# Accuracy\n",
    "acc_xgb = accuracy_score(y_test, xgb_preds)\n",
    "print(f\"Accuracy → {acc_xgb:.2f}\")\n",
    "\n",
    "# Precision, Recall, F1\n",
    "xgb_precision = precision_score(y_test, xgb_preds)\n",
    "xgb_recall = recall_score(y_test, xgb_preds)\n",
    "xgb_f1 = f1_score(y_test, xgb_preds)\n",
    "\n",
    "print(f\"Precision → {xgb_precision:.2f}\")\n",
    "print(f\"Recall → {xgb_recall:.2f}\")\n",
    "print(f\"F1 Score → {xgb_f1:.2f}\")\n",
    "\n",
    "# Sensitivity, Specificity, AUC\n",
    "sens_xgb, spec_xgb = get_sensitivity_specificity(y_test, xgb_preds)\n",
    "fpr_xgb, tpr_xgb, _ = roc_curve(y_test, xgb_probs[:, 1])\n",
    "auc_val = roc_auc_score(y_test, xgb_probs[:, 1])\n",
    "\n",
    "print(f\"Sensitivity → {sens_xgb:.2f}\")\n",
    "print(f\"Specificity → {spec_xgb:.2f}\")\n",
    "print(f\"AUC Score → {auc_val:.2f}\")\n",
    "\n",
    "# ROC curve plot\n",
    "plt.figure()\n",
    "plt.plot(fpr_xgb, tpr_xgb, color='blue', label=f'AUC = {auc_val:.2f}')\n",
    "plt.plot([0, 1], [0, 1], linestyle='--', color='green')\n",
    "plt.xlim([-0.05, 1.0])\n",
    "plt.ylim([0.0, 1.05])\n",
    "plt.xlabel('False Positive Rate')\n",
    "plt.ylabel('True Positive Rate')\n",
    "plt.title('ROC Curve — Hypertuned XGBoost Classifier')\n",
    "plt.legend(loc='lower right')\n",
    "plt.show()\n"
   ]
  },
  {
   "cell_type": "markdown",
   "metadata": {
    "id": "ysiOKT6q__6W"
   },
   "source": [
    "## Performance Benchmark Across Hypertuned Model"
   ]
  },
  {
   "cell_type": "code",
   "execution_count": null,
   "metadata": {
    "id": "GtSF4ykSABCc"
   },
   "outputs": [],
   "source": [
    "import matplotlib.pyplot as plt\n",
    "import numpy as np\n",
    "\n",
    "# Model labels\n",
    "ml_names = ['RF', 'XGB']\n",
    "\n",
    "# Performance metrics\n",
    "sensitivity_scores = [sensitivity_rf, sens_xgb]\n",
    "specificity_scores = [specificity_rf, spec_xgb]\n",
    "auc_scores = [rf_auc, auc_val]\n",
    "\n",
    "# Helper function to label each bar\n",
    "def annotate_bars(bars):\n",
    "    for bar in bars:\n",
    "        score = bar.get_height()\n",
    "        plt.text(bar.get_x() + bar.get_width() / 2.0, score, f'{score:.2f}',\n",
    "                 ha='center', va='bottom')\n",
    "\n",
    "# Set up the plot\n",
    "fig, ax = plt.subplots(figsize=(8, 6))\n",
    "bar_width = 0.2\n",
    "x_pos = np.arange(len(ml_names))\n",
    "\n",
    "# Create the grouped bar plots\n",
    "bars_sens = ax.bar(x_pos, sensitivity_scores, width=bar_width, label='Sensitivity', color='blue')\n",
    "bars_spec = ax.bar(x_pos + bar_width, specificity_scores, width=bar_width, label='Specificity', color='orange')\n",
    "bars_auc = ax.bar(x_pos + 2 * bar_width, auc_scores, width=bar_width, label='AUC', color='green')\n",
    "\n",
    "# Configure axes and appearance\n",
    "ax.set_xlabel('Model Type')\n",
    "ax.set_ylabel('Performance Score')\n",
    "ax.set_title('Model Evaluation Comparison After Hyperparameter Optimization')\n",
    "ax.set_xticks(x_pos + bar_width * 1.5)\n",
    "ax.set_xticklabels(ml_names)\n",
    "ax.set_ylim(0, 1.1)\n",
    "ax.legend()\n",
    "\n",
    "# Add numeric value on top of each bar\n",
    "annotate_bars(bars_sens)\n",
    "annotate_bars(bars_spec)\n",
    "annotate_bars(bars_auc)\n",
    "\n",
    "plt.tight_layout()\n",
    "plt.show()\n"
   ]
  }
 ],
 "metadata": {
  "accelerator": "GPU",
  "colab": {
   "gpuType": "T4",
   "provenance": []
  },
  "kernelspec": {
   "display_name": "Python 3 (ipykernel)",
   "language": "python",
   "name": "python3"
  },
  "language_info": {
   "codemirror_mode": {
    "name": "ipython",
    "version": 3
   },
   "file_extension": ".py",
   "mimetype": "text/x-python",
   "name": "python",
   "nbconvert_exporter": "python",
   "pygments_lexer": "ipython3",
   "version": "3.12.4"
  }
 },
 "nbformat": 4,
 "nbformat_minor": 4
}
